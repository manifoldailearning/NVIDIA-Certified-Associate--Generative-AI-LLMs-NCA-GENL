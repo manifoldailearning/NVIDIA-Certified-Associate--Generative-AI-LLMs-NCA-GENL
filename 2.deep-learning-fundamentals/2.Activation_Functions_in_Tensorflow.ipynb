{
  "nbformat": 4,
  "nbformat_minor": 0,
  "metadata": {
    "colab": {
      "provenance": []
    },
    "kernelspec": {
      "name": "python3",
      "display_name": "Python 3"
    },
    "language_info": {
      "name": "python"
    }
  },
  "cells": [
    {
      "cell_type": "markdown",
      "metadata": {
        "id": "Vs8PJe7J7Jal"
      },
      "source": [
        "# Activation Functions\n"
      ]
    },
    {
      "cell_type": "markdown",
      "metadata": {
        "id": "oiUNYAyKFEf7"
      },
      "source": [
        "## Sigmoid Activation"
      ]
    },
    {
      "cell_type": "code",
      "metadata": {
        "id": "jf2uv8yM6yeB"
      },
      "source": [
        "#Imports\n",
        "import tensorflow as tf\n",
        "from tensorflow import keras\n",
        "import matplotlib.pyplot as plt\n",
        "plt.style.use(\"seaborn\")"
      ],
      "execution_count": null,
      "outputs": []
    },
    {
      "cell_type": "code",
      "metadata": {
        "id": "PLughPw17S15"
      },
      "source": [
        "#Generate Data Points\n",
        "X = tf.linspace(-10,10,100)\n",
        "X"
      ],
      "execution_count": null,
      "outputs": []
    },
    {
      "cell_type": "code",
      "metadata": {
        "id": "DNX3FgKFV90M"
      },
      "source": [
        "X.shape"
      ],
      "execution_count": null,
      "outputs": []
    },
    {
      "cell_type": "markdown",
      "metadata": {
        "id": "F_WuF8As7nzc"
      },
      "source": [
        "Activations : https://www.tensorflow.org/api_docs/python/tf/keras/activations\n"
      ]
    },
    {
      "cell_type": "markdown",
      "metadata": {
        "id": "c1Pb3__D72s4"
      },
      "source": [
        "sigmoid(x) = 1 / (1 + exp(-x))"
      ]
    },
    {
      "cell_type": "code",
      "metadata": {
        "id": "U266pfs17hRq"
      },
      "source": [
        "#Activations\n",
        "y = tf.keras.activations.sigmoid(X)\n",
        "\n",
        "#Visualize Graph\n",
        "plt.plot(X,y,label = \"sigmoid(x) = 1 / (1 + exp(-x))\" )\n",
        "plt.title(\"Sigmoid\")\n",
        "plt.xlabel(\"X\")\n",
        "plt.ylabel(\"Sigmoid of X\")\n",
        "plt.legend()\n",
        "plt.show()"
      ],
      "execution_count": null,
      "outputs": []
    },
    {
      "cell_type": "markdown",
      "metadata": {
        "id": "b8wOT7128nXY"
      },
      "source": [
        "## Tanh - Hyperbolic Tangent Function"
      ]
    },
    {
      "cell_type": "code",
      "metadata": {
        "id": "g1bO5AYh8GAf"
      },
      "source": [
        "#Activations\n",
        "y = tf.keras.activations.tanh(X)\n",
        "\n",
        "#Visualize Graph\n",
        "plt.plot(X,y,label = \"tanh(x)\" )\n",
        "plt.title(\"Hyperbolic Tangent\")\n",
        "plt.xlabel(\"X\")\n",
        "plt.ylabel(\"tanh(x)\")\n",
        "plt.legend()\n",
        "plt.show()"
      ],
      "execution_count": null,
      "outputs": []
    },
    {
      "cell_type": "markdown",
      "metadata": {
        "id": "rsuW8qf5-yuy"
      },
      "source": [
        "## Relu Activation"
      ]
    },
    {
      "cell_type": "markdown",
      "metadata": {
        "id": "ibVw5_Xm-0hO"
      },
      "source": [
        "Relu Activation :\n",
        "y = max(x,0)"
      ]
    },
    {
      "cell_type": "code",
      "metadata": {
        "id": "l8V-0uUK-UcA"
      },
      "source": [
        "#Activations\n",
        "y = tf.keras.activations.relu(X)\n",
        "\n",
        "#Visualize Graph\n",
        "plt.plot(X,y,label = \"y = max(x,0)\" )\n",
        "plt.title(\"Relu\")\n",
        "plt.xlabel(\"X\")\n",
        "plt.ylabel(\"max(x,0)\")\n",
        "plt.legend()\n",
        "plt.show()"
      ],
      "execution_count": null,
      "outputs": []
    },
    {
      "cell_type": "markdown",
      "source": [
        "# Leaky Relu"
      ],
      "metadata": {
        "id": "TZtNRw5Ua6Mg"
      }
    },
    {
      "cell_type": "markdown",
      "source": [
        "![image.png](data:image/png;base64,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)"
      ],
      "metadata": {
        "id": "n6SKyPNnbSk9"
      }
    },
    {
      "cell_type": "code",
      "source": [
        "#Activations\n",
        "y = tf.nn.leaky_relu(X)\n",
        "\n",
        "#Visualize Graph\n",
        "plt.plot(X,y )\n",
        "plt.title(\"Leaky Relu\")\n",
        "plt.xlabel(\"X\")\n",
        "plt.ylabel(\"Leaky Relu\")\n",
        "plt.legend()\n",
        "plt.show()"
      ],
      "metadata": {
        "id": "HXsa5H4Ea8C7"
      },
      "execution_count": null,
      "outputs": []
    },
    {
      "cell_type": "markdown",
      "metadata": {
        "id": "EQc5WUBL_VHi"
      },
      "source": [
        "## Elu Activation Function - Exponential Linear Unit \n",
        "\n",
        "y = x if x > 0 and alpha * (exp(x) - 1) if x < 0."
      ]
    },
    {
      "cell_type": "code",
      "metadata": {
        "id": "62sr4LOt_NsZ"
      },
      "source": [
        "#Activations\n",
        "y = tf.keras.activations.elu(X,alpha = 0.9)\n",
        "\n",
        "#Visualize Graph\n",
        "plt.plot(X,y,label = \"y = x if x>0 else alpha * (exp(x) - 1) if x < 0 \" )\n",
        "plt.title(\"Elu\")\n",
        "plt.xlabel(\"X\")\n",
        "plt.ylabel(\"elu(x)\")\n",
        "plt.legend()\n",
        "plt.show()"
      ],
      "execution_count": null,
      "outputs": []
    },
    {
      "cell_type": "markdown",
      "metadata": {
        "id": "kvHV8AuX_-GG"
      },
      "source": [
        "## SELU Activation Function - Scaled Exponential Linear Unit\n",
        "\n",
        "if x > 0: return scale * x\n",
        "\n",
        "if x < 0: return scale * alpha * (exp(x) - 1)\n",
        "\n",
        "where alpha and scale are pre-defined constants (alpha=1.67326324 and scale=1.05070098)"
      ]
    },
    {
      "cell_type": "code",
      "metadata": {
        "id": "OVLdS57G_3vO"
      },
      "source": [
        "#Activations\n",
        "y = tf.keras.activations.selu(X)\n",
        "\n",
        "#Visualize Graph\n",
        "plt.plot(X,y,label = \"selu(x)\" )\n",
        "plt.title(\"SELU\")\n",
        "plt.xlabel(\"X\")\n",
        "plt.ylabel(\"selu(x)\")\n",
        "plt.legend()\n",
        "plt.show()"
      ],
      "execution_count": null,
      "outputs": []
    },
    {
      "cell_type": "markdown",
      "metadata": {
        "id": "IRyJGq5OEO_n"
      },
      "source": [
        "## Swish Activation\n",
        "swish(x) = x * sigmoid(x)"
      ]
    },
    {
      "cell_type": "code",
      "metadata": {
        "id": "-lUOmajvESfo"
      },
      "source": [
        "#Activations\n",
        "y = tf.keras.activations.swish(X)\n",
        "\n",
        "#Visualize Graph\n",
        "plt.plot(X,y,label = \"swish(x) = x * sigmoid(x)\" )\n",
        "plt.title(\"Swish\")\n",
        "plt.xlabel(\"X\")\n",
        "plt.ylabel(\"swish(x)\")\n",
        "plt.legend()\n",
        "plt.show()"
      ],
      "execution_count": null,
      "outputs": []
    },
    {
      "cell_type": "markdown",
      "metadata": {
        "id": "ZzfIVJouAwhU"
      },
      "source": [
        "## Softmax\n",
        "\n",
        "converts a vector of values to a probability distribution"
      ]
    },
    {
      "cell_type": "markdown",
      "metadata": {
        "id": "E0188SOcCG_K"
      },
      "source": [
        "![image.png](data:image/png;base64,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)"
      ]
    },
    {
      "cell_type": "code",
      "metadata": {
        "id": "unairtA2Ac95"
      },
      "source": [
        "x = tf.constant([150,50,10],dtype=tf.float32)\n",
        "x = tf.expand_dims(x,axis=0)\n",
        "print(x.shape,x)\n",
        "y = tf.keras.activations.softmax(x)\n",
        "print(y)"
      ],
      "execution_count": null,
      "outputs": []
    },
    {
      "cell_type": "code",
      "metadata": {
        "id": "IlzbNsfAU6N_"
      },
      "source": [
        "tf.math.reduce_sum(y)"
      ],
      "execution_count": null,
      "outputs": []
    },
    {
      "cell_type": "code",
      "metadata": {
        "id": "ZT62fwfzU510"
      },
      "source": [],
      "execution_count": null,
      "outputs": []
    },
    {
      "cell_type": "code",
      "metadata": {
        "id": "Zw6D_vQyA_Ad"
      },
      "source": [
        "#he initialiazer\n",
        "keras.layers.Dense(10,activation=\"relu\",kernel_initializer=\"he_normal\")"
      ],
      "execution_count": null,
      "outputs": []
    },
    {
      "cell_type": "code",
      "metadata": {
        "id": "yl7x23ga7TIs"
      },
      "source": [
        "#Optimizers\n",
        "1. SGD - Lowest Speed - Good convergence\n",
        "2. Momemtum SGD - Medium Speed - Good convergence\n",
        "3. Adagrad - Very high Speed (it stops early) - Convergence quality - lowest\n",
        "4. RMSprop - high speed & Medium to high quality\n",
        "5. Adam - high speed & Medium to high quality\n",
        "\n",
        "Nadam\n",
        "Adamax"
      ],
      "execution_count": null,
      "outputs": []
    }
  ]
}